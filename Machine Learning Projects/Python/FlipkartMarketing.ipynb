{
 "cells": [
  {
   "cell_type": "code",
   "execution_count": 33,
   "metadata": {},
   "outputs": [
    {
     "name": "stdout",
     "output_type": "stream",
     "text": [
      "Collecting kmodes\n",
      "  Downloading kmodes-0.11.0-py2.py3-none-any.whl (18 kB)\n",
      "Requirement already satisfied: scipy>=0.13.3 in c:\\users\\test\\anaconda3\\lib\\site-packages (from kmodes) (1.5.0)\n",
      "Requirement already satisfied: scikit-learn>=0.22.0 in c:\\users\\test\\anaconda3\\lib\\site-packages (from kmodes) (0.24.2)\n",
      "Requirement already satisfied: joblib>=0.11 in c:\\users\\test\\anaconda3\\lib\\site-packages (from kmodes) (0.16.0)\n",
      "Requirement already satisfied: numpy>=1.10.4 in c:\\users\\test\\anaconda3\\lib\\site-packages (from kmodes) (1.19.5)\n",
      "Requirement already satisfied: threadpoolctl>=2.0.0 in c:\\users\\test\\anaconda3\\lib\\site-packages (from scikit-learn>=0.22.0->kmodes) (2.1.0)\n",
      "Installing collected packages: kmodes\n",
      "Successfully installed kmodes-0.11.0\n"
     ]
    }
   ],
   "source": [
    "# import pandas as pd\n",
    "# import numpy as np\n",
    "# import warnings as wr\n",
    "# import matplotlib.pyplot as plt\n",
    "# import matplotlib.dates as dts\n",
    "#!pip install kmodes\n",
    "from kmodes.kprototypes import KPrototypes\n",
    "wr.filterwarnings('ignore')"
   ]
  },
  {
   "cell_type": "code",
   "execution_count": 2,
   "metadata": {
    "scrolled": true
   },
   "outputs": [
    {
     "name": "stderr",
     "output_type": "stream",
     "text": [
      "b'Skipping line 70: expected 15 fields, saw 16\\nSkipping line 85: expected 15 fields, saw 16\\nSkipping line 376: expected 15 fields, saw 16\\nSkipping line 545: expected 15 fields, saw 16\\nSkipping line 604: expected 15 fields, saw 16\\nSkipping line 720: expected 15 fields, saw 16\\nSkipping line 802: expected 15 fields, saw 16\\nSkipping line 1102: expected 15 fields, saw 16\\nSkipping line 1461: expected 15 fields, saw 16\\nSkipping line 1482: expected 15 fields, saw 16\\nSkipping line 1528: expected 15 fields, saw 16\\nSkipping line 1573: expected 15 fields, saw 16\\nSkipping line 1790: expected 15 fields, saw 16\\nSkipping line 1837: expected 15 fields, saw 16\\nSkipping line 2023: expected 15 fields, saw 16\\nSkipping line 2055: expected 15 fields, saw 16\\nSkipping line 2264: expected 15 fields, saw 16\\nSkipping line 6159: expected 15 fields, saw 16\\nSkipping line 6256: expected 15 fields, saw 16\\nSkipping line 6413: expected 15 fields, saw 16\\nSkipping line 7656: expected 15 fields, saw 16\\nSkipping line 7802: expected 15 fields, saw 16\\nSkipping line 8331: expected 15 fields, saw 16\\nSkipping line 9007: expected 15 fields, saw 16\\nSkipping line 9010: expected 15 fields, saw 16\\nSkipping line 9091: expected 15 fields, saw 16\\nSkipping line 9154: expected 15 fields, saw 16\\nSkipping line 9222: expected 15 fields, saw 16\\nSkipping line 9309: expected 15 fields, saw 16\\nSkipping line 9367: expected 15 fields, saw 16\\nSkipping line 9478: expected 15 fields, saw 16\\nSkipping line 9545: expected 15 fields, saw 16\\nSkipping line 9713: expected 15 fields, saw 16\\nSkipping line 9955: expected 15 fields, saw 16\\nSkipping line 10093: expected 15 fields, saw 16\\nSkipping line 10111: expected 15 fields, saw 16\\nSkipping line 10112: expected 15 fields, saw 16\\nSkipping line 10124: expected 15 fields, saw 16\\nSkipping line 10146: expected 15 fields, saw 16\\nSkipping line 10285: expected 15 fields, saw 16\\nSkipping line 10296: expected 15 fields, saw 16\\nSkipping line 10361: expected 15 fields, saw 16\\nSkipping line 10385: expected 15 fields, saw 16\\nSkipping line 10412: expected 15 fields, saw 16\\nSkipping line 10635: expected 15 fields, saw 16\\nSkipping line 10710: expected 15 fields, saw 16\\nSkipping line 10720: expected 15 fields, saw 16\\nSkipping line 10863: expected 15 fields, saw 16\\nSkipping line 10896: expected 15 fields, saw 16\\nSkipping line 11028: expected 15 fields, saw 16\\nSkipping line 11112: expected 15 fields, saw 16\\nSkipping line 11349: expected 15 fields, saw 16\\nSkipping line 11372: expected 15 fields, saw 16\\nSkipping line 11384: expected 15 fields, saw 16\\nSkipping line 11570: expected 15 fields, saw 16\\nSkipping line 13899: expected 15 fields, saw 16\\nSkipping line 13922: expected 15 fields, saw 16\\nSkipping line 14016: expected 15 fields, saw 16\\nSkipping line 14217: expected 15 fields, saw 16\\nSkipping line 14297: expected 15 fields, saw 16\\nSkipping line 14338: expected 15 fields, saw 16\\nSkipping line 14466: expected 15 fields, saw 16\\nSkipping line 14512: expected 15 fields, saw 16\\nSkipping line 14569: expected 15 fields, saw 16\\nSkipping line 14676: expected 15 fields, saw 16\\nSkipping line 14760: expected 15 fields, saw 16\\nSkipping line 14801: expected 15 fields, saw 16\\nSkipping line 14855: expected 15 fields, saw 16\\n'\n"
     ]
    }
   ],
   "source": [
    "fm=pd.read_csv(\"E:\\\\OneDrive\\\\DS\\Documents\\\\Internship\\\\Schbang\\\\Flipkart.csv\",encoding='latin',error_bad_lines=False)"
   ]
  },
  {
   "cell_type": "code",
   "execution_count": 3,
   "metadata": {
    "scrolled": true
   },
   "outputs": [],
   "source": [
    "DeleteCols=[\"Uniq Id\", \"Image Url\", \"Url\",\"Product Description\",\"Combo Offers\"]\n",
    "fm=fm.drop(DeleteCols,axis=1)"
   ]
  },
  {
   "cell_type": "code",
   "execution_count": 15,
   "metadata": {
    "scrolled": true
   },
   "outputs": [
    {
     "data": {
      "text/html": [
       "<div>\n",
       "<style scoped>\n",
       "    .dataframe tbody tr th:only-of-type {\n",
       "        vertical-align: middle;\n",
       "    }\n",
       "\n",
       "    .dataframe tbody tr th {\n",
       "        vertical-align: top;\n",
       "    }\n",
       "\n",
       "    .dataframe thead th {\n",
       "        text-align: right;\n",
       "    }\n",
       "</style>\n",
       "<table border=\"1\" class=\"dataframe\">\n",
       "  <thead>\n",
       "    <tr style=\"text-align: right;\">\n",
       "      <th></th>\n",
       "      <th>Bb Category</th>\n",
       "      <th>Product Title</th>\n",
       "      <th>Brand</th>\n",
       "      <th>Quantity Or Pack Size</th>\n",
       "      <th>Mrp</th>\n",
       "      <th>Price</th>\n",
       "      <th>Site Name</th>\n",
       "      <th>Offers</th>\n",
       "      <th>Stock Availibility</th>\n",
       "      <th>Date</th>\n",
       "      <th>Time</th>\n",
       "      <th>Day</th>\n",
       "    </tr>\n",
       "  </thead>\n",
       "  <tbody>\n",
       "    <tr>\n",
       "      <th>14930</th>\n",
       "      <td>Oral Care</td>\n",
       "      <td>Closeup Ever Fresh ToothpasteÂ Â (300 g, Pack ...</td>\n",
       "      <td>Closeup</td>\n",
       "      <td>2x150 g</td>\n",
       "      <td>144</td>\n",
       "      <td>115</td>\n",
       "      <td>flipkart_com</td>\n",
       "      <td>Bank Offer 10% Cashback* on HDFC Bank Debit Ca...</td>\n",
       "      <td>True</td>\n",
       "      <td>2019-11-13</td>\n",
       "      <td>00:32:53</td>\n",
       "      <td>13</td>\n",
       "    </tr>\n",
       "    <tr>\n",
       "      <th>14931</th>\n",
       "      <td>Juices</td>\n",
       "      <td>Real Activ 100% Apple JuiceÂ Â (1 L)</td>\n",
       "      <td>Real</td>\n",
       "      <td>1 L Tetrapack</td>\n",
       "      <td>130</td>\n",
       "      <td>100</td>\n",
       "      <td>flipkart_com</td>\n",
       "      <td>Bank Offer 5% Unlimited Cashback on Flipkart A...</td>\n",
       "      <td>True</td>\n",
       "      <td>2019-11-05</td>\n",
       "      <td>00:27:54</td>\n",
       "      <td>05</td>\n",
       "    </tr>\n",
       "    <tr>\n",
       "      <th>14932</th>\n",
       "      <td>Masalas &amp; Spices</td>\n",
       "      <td>Satyam Chilly BedgiÂ Â (100 g)</td>\n",
       "      <td>Satyam</td>\n",
       "      <td>100 g</td>\n",
       "      <td>49</td>\n",
       "      <td>40</td>\n",
       "      <td>flipkart_com</td>\n",
       "      <td>Bank Offer 10% Cashback* on HDFC Bank Debit Ca...</td>\n",
       "      <td>True</td>\n",
       "      <td>2019-11-21</td>\n",
       "      <td>00:23:53</td>\n",
       "      <td>21</td>\n",
       "    </tr>\n",
       "    <tr>\n",
       "      <th>14933</th>\n",
       "      <td>Chips,Namkeen &amp; Snacks</td>\n",
       "      <td>Haldiram's Classic Nut CrackerÂ Â (1 kg)</td>\n",
       "      <td>Haldiram's</td>\n",
       "      <td>1 kg</td>\n",
       "      <td>225</td>\n",
       "      <td>222</td>\n",
       "      <td>flipkart_com</td>\n",
       "      <td>Bank Offer 5% Unlimited Cashback on Flipkart A...</td>\n",
       "      <td>True</td>\n",
       "      <td>2019-11-09</td>\n",
       "      <td>00:23:23</td>\n",
       "      <td>09</td>\n",
       "    </tr>\n",
       "    <tr>\n",
       "      <th>14934</th>\n",
       "      <td>Dairy</td>\n",
       "      <td>Mother Dairy Mango Sweet LassiÂ Â (200 ml)</td>\n",
       "      <td>Mother Dairy</td>\n",
       "      <td>200 ml</td>\n",
       "      <td>20</td>\n",
       "      <td>20</td>\n",
       "      <td>flipkart_com</td>\n",
       "      <td>Bank Offer 5% Unlimited Cashback on Flipkart A...</td>\n",
       "      <td>True</td>\n",
       "      <td>2019-11-12</td>\n",
       "      <td>01:10:27</td>\n",
       "      <td>12</td>\n",
       "    </tr>\n",
       "  </tbody>\n",
       "</table>\n",
       "</div>"
      ],
      "text/plain": [
       "                  Bb Category  \\\n",
       "14930               Oral Care   \n",
       "14931                  Juices   \n",
       "14932        Masalas & Spices   \n",
       "14933  Chips,Namkeen & Snacks   \n",
       "14934                   Dairy   \n",
       "\n",
       "                                           Product Title         Brand  \\\n",
       "14930  Closeup Ever Fresh ToothpasteÂ Â (300 g, Pack ...       Closeup   \n",
       "14931               Real Activ 100% Apple JuiceÂ Â (1 L)          Real   \n",
       "14932                     Satyam Chilly BedgiÂ Â (100 g)        Satyam   \n",
       "14933           Haldiram's Classic Nut CrackerÂ Â (1 kg)    Haldiram's   \n",
       "14934         Mother Dairy Mango Sweet LassiÂ Â (200 ml)  Mother Dairy   \n",
       "\n",
       "      Quantity Or Pack Size  Mrp Price     Site Name  \\\n",
       "14930               2x150 g  144   115  flipkart_com   \n",
       "14931         1 L Tetrapack  130   100  flipkart_com   \n",
       "14932                 100 g   49    40  flipkart_com   \n",
       "14933                  1 kg  225   222  flipkart_com   \n",
       "14934                200 ml   20    20  flipkart_com   \n",
       "\n",
       "                                                  Offers  Stock Availibility  \\\n",
       "14930  Bank Offer 10% Cashback* on HDFC Bank Debit Ca...                True   \n",
       "14931  Bank Offer 5% Unlimited Cashback on Flipkart A...                True   \n",
       "14932  Bank Offer 10% Cashback* on HDFC Bank Debit Ca...                True   \n",
       "14933  Bank Offer 5% Unlimited Cashback on Flipkart A...                True   \n",
       "14934  Bank Offer 5% Unlimited Cashback on Flipkart A...                True   \n",
       "\n",
       "             Date      Time Day  \n",
       "14930  2019-11-13  00:32:53  13  \n",
       "14931  2019-11-05  00:27:54  05  \n",
       "14932  2019-11-21  00:23:53  21  \n",
       "14933  2019-11-09  00:23:23  09  \n",
       "14934  2019-11-12  01:10:27  12  "
      ]
     },
     "execution_count": 15,
     "metadata": {},
     "output_type": "execute_result"
    }
   ],
   "source": [
    "fm.tail(n=5)"
   ]
  },
  {
   "cell_type": "code",
   "execution_count": 5,
   "metadata": {},
   "outputs": [],
   "source": [
    "fm_new=fm[\"Crawl Timestamp\"].str.split(\" \",n=1,expand=True)\n",
    "fm[\"Date\"]=fm_new[0]\n",
    "fm[\"Time\"]=fm_new[1]\n",
    "fm=fm.drop(\"Crawl Timestamp\",axis=1)\n",
    "\n",
    "fm_newer=fm[\"Time\"].str.split(\" \",n=1,expand=True)\n",
    "fm[\"Time\"]=fm_newer[0]\n",
    "fm[\"Time_2\"]=fm_newer[1]\n",
    "fm=fm.drop(\"Time_2\",axis=1)"
   ]
  },
  {
   "cell_type": "code",
   "execution_count": null,
   "metadata": {},
   "outputs": [],
   "source": []
  },
  {
   "cell_type": "code",
   "execution_count": 6,
   "metadata": {},
   "outputs": [],
   "source": [
    "#Defining function to extract day/month/year from date\n",
    "def month(d,x):\n",
    "    import datetime, calendar\n",
    "    dt=datetime.datetime.strptime(d, '%Y-%m-%d')\n",
    "    if(x==\"y\"):\n",
    "        return dt.strftime(\"%Y\")\n",
    "    elif(x==\"m\"):\n",
    "        return dt.strftime(\"%b\")\n",
    "    elif(x==\"d\"):\n",
    "        return dt.strftime(\"%d\")\n",
    "    else:\n",
    "        print(\"Please input y(year) or m(month) or d(day)\")"
   ]
  },
  {
   "cell_type": "code",
   "execution_count": 7,
   "metadata": {
    "scrolled": false
   },
   "outputs": [],
   "source": [
    "#fm[\"Month\"]=fm[\"Date\"].apply(month,args=(\"m\"))\n",
    "fm[\"Day\"]=fm[\"Date\"].apply(month,args=(\"d\"))\n",
    "#fm[\"Year\"]=fm[\"Date\"].apply(month,args=(\"y\"))"
   ]
  },
  {
   "cell_type": "markdown",
   "metadata": {},
   "source": [
    "This data is for November,2019"
   ]
  },
  {
   "cell_type": "code",
   "execution_count": 8,
   "metadata": {},
   "outputs": [
    {
     "data": {
      "text/plain": [
       "7        23\n",
       "23       23\n",
       "40       23\n",
       "49       23\n",
       "52       23\n",
       "         ..\n",
       "14903    23\n",
       "14911    23\n",
       "14918    23\n",
       "14919    23\n",
       "14920    23\n",
       "Name: Day, Length: 1689, dtype: object"
      ]
     },
     "execution_count": 8,
     "metadata": {},
     "output_type": "execute_result"
    }
   ],
   "source": [
    "fm[\"Day\"][fm[\"Day\"]==\"23\"]"
   ]
  },
  {
   "cell_type": "code",
   "execution_count": 9,
   "metadata": {
    "scrolled": false
   },
   "outputs": [
    {
     "data": {
      "image/png": "[encoded data removed]",
      "text/plain": [
       "<Figure size 1080x360 with 1 Axes>"
      ]
     },
     "metadata": {
      "needs_background": "light"
     },
     "output_type": "display_data"
    }
   ],
   "source": [
    "GD=fm.groupby('Day').size()\n",
    "plt.figure(figsize=(15,5))\n",
    "plt.plot(GD, color='skyblue')\n",
    "plt.xticks(rotation='vertical', size=8)\n",
    "plt.xlabel('Days')\n",
    "plt.ylabel('Sales')\n",
    "plt.show()"
   ]
  },
  {
   "cell_type": "code",
   "execution_count": 10,
   "metadata": {
    "scrolled": true
   },
   "outputs": [],
   "source": [
    "fm['Offers'].mode()[0] #Bank Offer 10% Cashback* on HDFC Bank Debit Cards T&C | Bank Offer 5% Unlimited Cashback on Flipkart Axis Bank Credit Card T&C | Bank Offer Extra 5% off* with Axis Bank Buzz Credit Card T&C | No Cost EMI on Flipkart Axis Bank Credit Card T&C\n",
    "fm['Offers'].fillna(value=fm['Offers'].mode()[0],axis=0,inplace=True)"
   ]
  },
  {
   "cell_type": "code",
   "execution_count": 14,
   "metadata": {
    "scrolled": true
   },
   "outputs": [],
   "source": [
    "#fm.isnull().sum()\n",
    "#fm.dropna(inplace=True)"
   ]
  },
  {
   "cell_type": "markdown",
   "metadata": {},
   "source": [
    "item1=69\n",
    "item2=71\n",
    "item3=70\n",
    "avg.cart_val=Rs.70\n",
    "\n",
    "To increase avg.cart value, item with higher price:\n",
    "A)\n",
    "item1=270\n",
    "avg.cart_val=270\n",
    "B)\n",
    "item1=69\n",
    "item2=142\n",
    "item3=71\n",
    "avg.cart_val=94\n",
    "\n",
    "acv=1 (Incentivise Level-I)\n",
    "acv=2 (Incentivise Level-II)\n",
    "acv=3 (Incentivise Level-III)\n",
    "\n",
    "/quantity increase/"
   ]
  },
  {
   "cell_type": "code",
   "execution_count": 33,
   "metadata": {},
   "outputs": [
    {
     "data": {
      "text/plain": [
       "Bb Category\n",
       "Chocolates & Sweets           1480\n",
       "Masalas & Spices              1316\n",
       "Soaps & Body Wash              784\n",
       "Chips,Namkeen & Snacks         644\n",
       "Creams, Lotions, Skin Care     637\n",
       "Hair Care                      620\n",
       "Deos, Perfumes & Talc          570\n",
       "Dairy                          490\n",
       "Biscuits                       473\n",
       "Dals & Pulses                  447\n",
       "Juices                         444\n",
       "Dry Fruits, Nuts & Seeds       373\n",
       "Ready To Cook                  368\n",
       "Rice & Rice Products           363\n",
       "Repellants & Fresheners        352\n",
       "Ghee & Oils                    344\n",
       "Atta & Flours                  335\n",
       "Oral Care                      319\n",
       "Floor & Other Cleaners         312\n",
       "Soft Drinks                    304\n",
       "Noodles & Pasta                297\n",
       "Ketchups & Spreads             286\n",
       "Diapers & Wipes                252\n",
       "Breakfast Cereals              242\n",
       "Tea                            222\n",
       "Pooja Needs                    194\n",
       "Shaving Needs                  189\n",
       "Wellness & Common Pharma       186\n",
       "Paper & Disposables            173\n",
       "Detergents & Laundry           171\n",
       "Sugar, Jaggery & Salt          170\n",
       "Pickles & Chutney              167\n",
       "Jams & Honey                   163\n",
       "Baby Bath & Skin Care          150\n",
       "Health Drink Mix               141\n",
       "Cooking Sauces & Vinegar       132\n",
       "Sanitary Needs                 126\n",
       "Utensil Cleaners               120\n",
       "Coffee                         105\n",
       "Kajal & Makeup                  99\n",
       "Baking                          86\n",
       "Baby Foods                      86\n",
       "Household Care|Pet Food         71\n",
       "Eggs                            32\n",
       "dtype: int64"
      ]
     },
     "execution_count": 33,
     "metadata": {},
     "output_type": "execute_result"
    }
   ],
   "source": [
    "# GD2=fm.groupby([\"Bb Category\"]).size()\n",
    "# GD2=GD2.sort_values(ascending=False)\n",
    "# GD2"
   ]
  },
  {
   "cell_type": "code",
   "execution_count": 32,
   "metadata": {},
   "outputs": [
    {
     "data": {
      "text/plain": [
       "Text(0, 0.5, 'Total Sales')"
      ]
     },
     "execution_count": 32,
     "metadata": {},
     "output_type": "execute_result"
    },
    {
     "data": {
      "image/png": "[encoded data removed]",
      "text/plain": [
       "<Figure size 1800x720 with 1 Axes>"
      ]
     },
     "metadata": {
      "needs_background": "light"
     },
     "output_type": "display_data"
    }
   ],
   "source": [
    "# GD2.plot(kind='bar',figsize=(25,10))\n",
    "# plt.xlabel('Product Category')\n",
    "# plt.ylabel('Total Sales')"
   ]
  },
  {
   "cell_type": "code",
   "execution_count": 74,
   "metadata": {},
   "outputs": [],
   "source": [
    "#fm.to_csv(\"FlipkartPy.csv\")"
   ]
  },
  {
   "cell_type": "markdown",
   "metadata": {},
   "source": [
    "# Customer Segmentation"
   ]
  },
  {
   "cell_type": "code",
   "execution_count": 49,
   "metadata": {},
   "outputs": [],
   "source": [
    "fk=pd.read_csv(\"E:\\OneDrive\\DS\\Documents\\Internship\\Schbang\\FlipkartPy.csv\",encoding=\"latin-1\")"
   ]
  },
  {
   "cell_type": "code",
   "execution_count": 50,
   "metadata": {
    "scrolled": true
   },
   "outputs": [
    {
     "data": {
      "text/html": [
       "<div>\n",
       "<style scoped>\n",
       "    .dataframe tbody tr th:only-of-type {\n",
       "        vertical-align: middle;\n",
       "    }\n",
       "\n",
       "    .dataframe tbody tr th {\n",
       "        vertical-align: top;\n",
       "    }\n",
       "\n",
       "    .dataframe thead th {\n",
       "        text-align: right;\n",
       "    }\n",
       "</style>\n",
       "<table border=\"1\" class=\"dataframe\">\n",
       "  <thead>\n",
       "    <tr style=\"text-align: right;\">\n",
       "      <th></th>\n",
       "      <th>Bb Category</th>\n",
       "      <th>Product Title</th>\n",
       "      <th>Brand</th>\n",
       "      <th>Quantity Or Pack Size</th>\n",
       "      <th>Mrp</th>\n",
       "      <th>Price</th>\n",
       "      <th>Site Name</th>\n",
       "      <th>Offers</th>\n",
       "      <th>Stock Availibility</th>\n",
       "    </tr>\n",
       "  </thead>\n",
       "  <tbody>\n",
       "    <tr>\n",
       "      <th>0</th>\n",
       "      <td>Juices</td>\n",
       "      <td>B Natural Dakshin Pink GuavaÃÂ ÃÂ (750 ml)</td>\n",
       "      <td>B Natural</td>\n",
       "      <td>750 ml Plastic Bottle</td>\n",
       "      <td>99</td>\n",
       "      <td>95</td>\n",
       "      <td>flipkart_com</td>\n",
       "      <td>Bank Offer 5% Unlimited Cashback on Flipkart A...</td>\n",
       "      <td>True</td>\n",
       "    </tr>\n",
       "    <tr>\n",
       "      <th>1</th>\n",
       "      <td>Chocolates &amp; Sweets</td>\n",
       "      <td>Parle Melody Chocolaty ToffeeÃÂ ÃÂ (195.5 g)</td>\n",
       "      <td>Parle</td>\n",
       "      <td>195.5 g</td>\n",
       "      <td>50</td>\n",
       "      <td>50</td>\n",
       "      <td>flipkart_com</td>\n",
       "      <td>Bank Offer 10% Cashback* on HDFC Bank Debit Ca...</td>\n",
       "      <td>True</td>\n",
       "    </tr>\n",
       "    <tr>\n",
       "      <th>2</th>\n",
       "      <td>Household Care|Pet Food</td>\n",
       "      <td>Whiskas Adult (+1 year) Fish 3 kg Dry Cat Food</td>\n",
       "      <td>Whiskas</td>\n",
       "      <td>3 kg</td>\n",
       "      <td>800</td>\n",
       "      <td>680</td>\n",
       "      <td>flipkart_com</td>\n",
       "      <td>Bank Offer 5% Unlimited Cashback on Flipkart A...</td>\n",
       "      <td>True</td>\n",
       "    </tr>\n",
       "    <tr>\n",
       "      <th>3</th>\n",
       "      <td>Creams, Lotions, Skin Care</td>\n",
       "      <td>Enchanteur Romantic Perfumed Body LotionÃÂ Ã...</td>\n",
       "      <td>Enchanteur</td>\n",
       "      <td>250 ml</td>\n",
       "      <td>220</td>\n",
       "      <td>182</td>\n",
       "      <td>flipkart_com</td>\n",
       "      <td>Bank Offer 10% Cashback* on HDFC Bank Debit Ca...</td>\n",
       "      <td>True</td>\n",
       "    </tr>\n",
       "    <tr>\n",
       "      <th>4</th>\n",
       "      <td>Hair Care</td>\n",
       "      <td>Pantene Hair Fall Control ShampooÃÂ ÃÂ (180 ml)</td>\n",
       "      <td>Pantene</td>\n",
       "      <td>180 ml</td>\n",
       "      <td>115</td>\n",
       "      <td>112</td>\n",
       "      <td>flipkart_com</td>\n",
       "      <td>Bank Offer 10% Instant Discount on Federal Ban...</td>\n",
       "      <td>True</td>\n",
       "    </tr>\n",
       "  </tbody>\n",
       "</table>\n",
       "</div>"
      ],
      "text/plain": [
       "                  Bb Category  \\\n",
       "0                      Juices   \n",
       "1         Chocolates & Sweets   \n",
       "2     Household Care|Pet Food   \n",
       "3  Creams, Lotions, Skin Care   \n",
       "4                   Hair Care   \n",
       "\n",
       "                                       Product Title       Brand  \\\n",
       "0       B Natural Dakshin Pink GuavaÃÂ ÃÂ (750 ml)   B Natural   \n",
       "1     Parle Melody Chocolaty ToffeeÃÂ ÃÂ (195.5 g)       Parle   \n",
       "2     Whiskas Adult (+1 year) Fish 3 kg Dry Cat Food     Whiskas   \n",
       "3  Enchanteur Romantic Perfumed Body LotionÃÂ Ã...  Enchanteur   \n",
       "4  Pantene Hair Fall Control ShampooÃÂ ÃÂ (180 ml)     Pantene   \n",
       "\n",
       "   Quantity Or Pack Size  Mrp  Price     Site Name  \\\n",
       "0  750 ml Plastic Bottle   99     95  flipkart_com   \n",
       "1                195.5 g   50     50  flipkart_com   \n",
       "2                   3 kg  800    680  flipkart_com   \n",
       "3                 250 ml  220    182  flipkart_com   \n",
       "4                 180 ml  115    112  flipkart_com   \n",
       "\n",
       "                                              Offers  Stock Availibility  \n",
       "0  Bank Offer 5% Unlimited Cashback on Flipkart A...                True  \n",
       "1  Bank Offer 10% Cashback* on HDFC Bank Debit Ca...                True  \n",
       "2  Bank Offer 5% Unlimited Cashback on Flipkart A...                True  \n",
       "3  Bank Offer 10% Cashback* on HDFC Bank Debit Ca...                True  \n",
       "4  Bank Offer 10% Instant Discount on Federal Ban...                True  "
      ]
     },
     "execution_count": 50,
     "metadata": {},
     "output_type": "execute_result"
    }
   ],
   "source": [
    "JustPredictors=fk.drop(['Date','Time','Day'],axis=1)\n",
    "JustPredictors.head()"
   ]
  },
  {
   "cell_type": "code",
   "execution_count": 53,
   "metadata": {},
   "outputs": [],
   "source": [
    "flip_array=JustPredictors.values"
   ]
  },
  {
   "cell_type": "code",
   "execution_count": 54,
   "metadata": {},
   "outputs": [],
   "source": [
    "flip_array[:, 4] = flip_array[:, 4].astype(float)\n",
    "flip_array[:, 5] = flip_array[:, 5].astype(float)"
   ]
  },
  {
   "cell_type": "code",
   "execution_count": 56,
   "metadata": {},
   "outputs": [
    {
     "name": "stdout",
     "output_type": "stream",
     "text": [
      "Init: initializing centroids\n",
      "Init: initializing clusters\n",
      "Starting iterations...\n",
      "Run: 1, iteration: 1/20, moves: 1174, ncost: 219715579.75299037\n",
      "Run: 1, iteration: 2/20, moves: 898, ncost: 209213062.98757145\n",
      "Run: 1, iteration: 3/20, moves: 656, ncost: 205198877.3419478\n",
      "Run: 1, iteration: 4/20, moves: 333, ncost: 204188392.9774184\n",
      "Run: 1, iteration: 5/20, moves: 199, ncost: 203909358.0582296\n",
      "Run: 1, iteration: 6/20, moves: 138, ncost: 203784598.45275342\n",
      "Run: 1, iteration: 7/20, moves: 64, ncost: 203744417.44973686\n",
      "Run: 1, iteration: 8/20, moves: 22, ncost: 203716603.99993798\n",
      "Run: 1, iteration: 9/20, moves: 33, ncost: 203612232.80349064\n",
      "Run: 1, iteration: 10/20, moves: 58, ncost: 203538997.86398616\n",
      "Run: 1, iteration: 11/20, moves: 101, ncost: 203443392.0154509\n",
      "Run: 1, iteration: 12/20, moves: 61, ncost: 203407063.21140411\n",
      "Run: 1, iteration: 13/20, moves: 42, ncost: 203333717.59154454\n",
      "Run: 1, iteration: 14/20, moves: 72, ncost: 203265963.8596579\n",
      "Run: 1, iteration: 15/20, moves: 63, ncost: 203223236.65475\n",
      "Run: 1, iteration: 16/20, moves: 37, ncost: 203210841.1283396\n",
      "Run: 1, iteration: 17/20, moves: 11, ncost: 203210044.35274282\n",
      "Run: 1, iteration: 18/20, moves: 0, ncost: 203210044.35274282\n",
      "Init: initializing centroids\n",
      "Init: initializing clusters\n",
      "Init: initializing centroids\n",
      "Init: initializing clusters\n",
      "Starting iterations...\n",
      "Run: 2, iteration: 1/20, moves: 3152, ncost: 263546763.511978\n",
      "Run: 2, iteration: 2/20, moves: 1501, ncost: 225477942.46391803\n",
      "Run: 2, iteration: 3/20, moves: 1151, ncost: 211640670.81421438\n",
      "Run: 2, iteration: 4/20, moves: 830, ncost: 205771672.93155077\n",
      "Run: 2, iteration: 5/20, moves: 396, ncost: 204411706.69992614\n",
      "Run: 2, iteration: 6/20, moves: 235, ncost: 203959634.0881798\n",
      "Run: 2, iteration: 7/20, moves: 139, ncost: 203820079.72631663\n",
      "Run: 2, iteration: 8/20, moves: 98, ncost: 203763087.46392974\n",
      "Run: 2, iteration: 9/20, moves: 29, ncost: 203729138.96269444\n",
      "Run: 2, iteration: 10/20, moves: 30, ncost: 203631778.80698094\n",
      "Run: 2, iteration: 11/20, moves: 63, ncost: 203541591.80647787\n",
      "Run: 2, iteration: 12/20, moves: 105, ncost: 203444600.07754812\n",
      "Run: 2, iteration: 13/20, moves: 62, ncost: 203407773.0932445\n",
      "Run: 2, iteration: 14/20, moves: 43, ncost: 203333717.59154454\n",
      "Run: 2, iteration: 15/20, moves: 72, ncost: 203265963.8596579\n",
      "Run: 2, iteration: 16/20, moves: 63, ncost: 203223236.65475\n",
      "Run: 2, iteration: 17/20, moves: 37, ncost: 203210841.1283396\n",
      "Run: 2, iteration: 18/20, moves: 11, ncost: 203210044.35274282\n",
      "Run: 2, iteration: 19/20, moves: 0, ncost: 203210044.35274282\n",
      "Init: initializing centroids\n",
      "Init: initializing clusters\n",
      "Init: initializing centroids\n",
      "Init: initializing clusters\n",
      "Starting iterations...\n",
      "Run: 3, iteration: 1/20, moves: 6674, ncost: 226441099.78289834\n",
      "Run: 3, iteration: 2/20, moves: 1967, ncost: 212286529.45653355\n",
      "Run: 3, iteration: 3/20, moves: 1033, ncost: 206028206.96801293\n",
      "Run: 3, iteration: 4/20, moves: 450, ncost: 204500296.03506678\n",
      "Run: 3, iteration: 5/20, moves: 253, ncost: 203983616.79927355\n",
      "Run: 3, iteration: 6/20, moves: 138, ncost: 203835264.49403355\n",
      "Run: 3, iteration: 7/20, moves: 113, ncost: 203764436.6822325\n",
      "Run: 3, iteration: 8/20, moves: 33, ncost: 203729313.94025847\n",
      "Run: 3, iteration: 9/20, moves: 31, ncost: 203631778.80698094\n",
      "Run: 3, iteration: 10/20, moves: 63, ncost: 203541591.80647787\n",
      "Run: 3, iteration: 11/20, moves: 105, ncost: 203444600.07754812\n",
      "Run: 3, iteration: 12/20, moves: 62, ncost: 203407773.0932445\n",
      "Run: 3, iteration: 13/20, moves: 43, ncost: 203333717.59154454\n",
      "Run: 3, iteration: 14/20, moves: 72, ncost: 203265963.8596579\n",
      "Run: 3, iteration: 15/20, moves: 63, ncost: 203223236.65475\n",
      "Run: 3, iteration: 16/20, moves: 37, ncost: 203210841.1283396\n",
      "Run: 3, iteration: 17/20, moves: 11, ncost: 203210044.35274282\n",
      "Run: 3, iteration: 18/20, moves: 0, ncost: 203210044.35274282\n",
      "Init: initializing centroids\n",
      "Init: initializing clusters\n",
      "Starting iterations...\n",
      "Run: 4, iteration: 1/20, moves: 3970, ncost: 234735348.4264621\n",
      "Run: 4, iteration: 2/20, moves: 767, ncost: 213867142.59348923\n",
      "Run: 4, iteration: 3/20, moves: 774, ncost: 206087889.9635168\n",
      "Run: 4, iteration: 4/20, moves: 408, ncost: 204500512.09165978\n",
      "Run: 4, iteration: 5/20, moves: 245, ncost: 203982679.1055905\n",
      "Run: 4, iteration: 6/20, moves: 140, ncost: 203832841.62792185\n",
      "Run: 4, iteration: 7/20, moves: 112, ncost: 203763936.50317755\n",
      "Run: 4, iteration: 8/20, moves: 32, ncost: 203729138.96269444\n",
      "Run: 4, iteration: 9/20, moves: 30, ncost: 203631778.80698094\n",
      "Run: 4, iteration: 10/20, moves: 63, ncost: 203541591.80647787\n",
      "Run: 4, iteration: 11/20, moves: 105, ncost: 203444600.07754812\n",
      "Run: 4, iteration: 12/20, moves: 62, ncost: 203407773.0932445\n",
      "Run: 4, iteration: 13/20, moves: 43, ncost: 203333717.59154454\n",
      "Run: 4, iteration: 14/20, moves: 72, ncost: 203265963.8596579\n",
      "Run: 4, iteration: 15/20, moves: 63, ncost: 203223236.65475\n",
      "Run: 4, iteration: 16/20, moves: 37, ncost: 203210841.1283396\n",
      "Run: 4, iteration: 17/20, moves: 11, ncost: 203210044.35274282\n",
      "Run: 4, iteration: 18/20, moves: 0, ncost: 203210044.35274282\n",
      "Init: initializing centroids\n",
      "Init: initializing clusters\n",
      "Init: initializing centroids\n",
      "Init: initializing clusters\n",
      "Starting iterations...\n",
      "Run: 5, iteration: 1/20, moves: 3843, ncost: 228557919.13012302\n",
      "Run: 5, iteration: 2/20, moves: 664, ncost: 210098688.74396402\n",
      "Run: 5, iteration: 3/20, moves: 516, ncost: 205318480.39611349\n",
      "Run: 5, iteration: 4/20, moves: 310, ncost: 204233604.7976881\n",
      "Run: 5, iteration: 5/20, moves: 201, ncost: 203922590.068744\n",
      "Run: 5, iteration: 6/20, moves: 123, ncost: 203804491.61500025\n",
      "Run: 5, iteration: 7/20, moves: 81, ncost: 203762001.60368517\n",
      "Run: 5, iteration: 8/20, moves: 25, ncost: 203729138.96269444\n",
      "Run: 5, iteration: 9/20, moves: 30, ncost: 203631778.80698094\n",
      "Run: 5, iteration: 10/20, moves: 63, ncost: 203541591.80647787\n",
      "Run: 5, iteration: 11/20, moves: 105, ncost: 203444600.07754812\n",
      "Run: 5, iteration: 12/20, moves: 62, ncost: 203407773.0932445\n",
      "Run: 5, iteration: 13/20, moves: 43, ncost: 203333717.59154454\n",
      "Run: 5, iteration: 14/20, moves: 72, ncost: 203265963.8596579\n",
      "Run: 5, iteration: 15/20, moves: 63, ncost: 203223236.65475\n",
      "Run: 5, iteration: 16/20, moves: 37, ncost: 203210841.1283396\n",
      "Run: 5, iteration: 17/20, moves: 11, ncost: 203210044.35274282\n",
      "Run: 5, iteration: 18/20, moves: 0, ncost: 203210044.35274282\n",
      "Init: initializing centroids\n",
      "Init: initializing clusters\n",
      "Starting iterations...\n",
      "Run: 6, iteration: 1/20, moves: 3951, ncost: 255050372.31587377\n",
      "Run: 6, iteration: 2/20, moves: 1415, ncost: 222249640.94493404\n",
      "Run: 6, iteration: 3/20, moves: 1075, ncost: 210236092.63487616\n",
      "Run: 6, iteration: 4/20, moves: 753, ncost: 205459410.1213279\n",
      "Run: 6, iteration: 5/20, moves: 346, ncost: 204309692.26693013\n",
      "Run: 6, iteration: 6/20, moves: 221, ncost: 203935313.1978294\n",
      "Run: 6, iteration: 7/20, moves: 130, ncost: 203810505.56702268\n",
      "Run: 6, iteration: 8/20, moves: 89, ncost: 203762001.60368517\n",
      "Run: 6, iteration: 9/20, moves: 25, ncost: 203729138.96269444\n",
      "Run: 6, iteration: 10/20, moves: 30, ncost: 203631778.80698094\n",
      "Run: 6, iteration: 11/20, moves: 63, ncost: 203541591.80647787\n",
      "Run: 6, iteration: 12/20, moves: 105, ncost: 203444600.07754812\n",
      "Run: 6, iteration: 13/20, moves: 62, ncost: 203407773.0932445\n",
      "Run: 6, iteration: 14/20, moves: 43, ncost: 203333717.59154454\n",
      "Run: 6, iteration: 15/20, moves: 72, ncost: 203265963.8596579\n",
      "Run: 6, iteration: 16/20, moves: 63, ncost: 203223236.65475\n",
      "Run: 6, iteration: 17/20, moves: 37, ncost: 203210841.1283396\n",
      "Run: 6, iteration: 18/20, moves: 11, ncost: 203210044.35274282\n",
      "Run: 6, iteration: 19/20, moves: 0, ncost: 203210044.35274282\n",
      "Init: initializing centroids\n",
      "Init: initializing clusters\n",
      "Init: initializing centroids\n",
      "Init: initializing clusters\n",
      "Init: initializing centroids\n",
      "Init: initializing clusters\n",
      "Starting iterations...\n",
      "Run: 7, iteration: 1/20, moves: 3757, ncost: 207017813.18208262\n",
      "Run: 7, iteration: 2/20, moves: 842, ncost: 204344462.75420696\n",
      "Run: 7, iteration: 3/20, moves: 278, ncost: 203955213.61417857\n",
      "Run: 7, iteration: 4/20, moves: 140, ncost: 203819394.7472652\n",
      "Run: 7, iteration: 5/20, moves: 97, ncost: 203763087.46392974\n",
      "Run: 7, iteration: 6/20, moves: 29, ncost: 203729138.96269444\n",
      "Run: 7, iteration: 7/20, moves: 30, ncost: 203631778.80698094\n",
      "Run: 7, iteration: 8/20, moves: 63, ncost: 203541591.80647787\n",
      "Run: 7, iteration: 9/20, moves: 105, ncost: 203444600.07754812\n",
      "Run: 7, iteration: 10/20, moves: 62, ncost: 203407773.0932445\n",
      "Run: 7, iteration: 11/20, moves: 43, ncost: 203333717.59154454\n",
      "Run: 7, iteration: 12/20, moves: 72, ncost: 203265963.8596579\n",
      "Run: 7, iteration: 13/20, moves: 63, ncost: 203223236.65475\n",
      "Run: 7, iteration: 14/20, moves: 37, ncost: 203210841.1283396\n",
      "Run: 7, iteration: 15/20, moves: 11, ncost: 203210044.35274282\n",
      "Run: 7, iteration: 16/20, moves: 0, ncost: 203210044.35274282\n",
      "Init: initializing centroids\n",
      "Init: initializing clusters\n",
      "Starting iterations...\n",
      "Run: 8, iteration: 1/20, moves: 3568, ncost: 208284111.9373949\n",
      "Run: 8, iteration: 2/20, moves: 897, ncost: 204962480.54052773\n",
      "Run: 8, iteration: 3/20, moves: 357, ncost: 204096666.18390706\n",
      "Run: 8, iteration: 4/20, moves: 174, ncost: 203888952.72251204\n",
      "Run: 8, iteration: 5/20, moves: 134, ncost: 203777452.64740053\n",
      "Run: 8, iteration: 6/20, moves: 63, ncost: 203729702.51445833\n",
      "Run: 8, iteration: 7/20, moves: 33, ncost: 203631778.80698094\n",
      "Run: 8, iteration: 8/20, moves: 63, ncost: 203541591.80647787\n",
      "Run: 8, iteration: 9/20, moves: 105, ncost: 203444600.07754812\n",
      "Run: 8, iteration: 10/20, moves: 62, ncost: 203407773.0932445\n",
      "Run: 8, iteration: 11/20, moves: 43, ncost: 203333717.59154454\n",
      "Run: 8, iteration: 12/20, moves: 72, ncost: 203265963.8596579\n",
      "Run: 8, iteration: 13/20, moves: 63, ncost: 203223236.65475\n",
      "Run: 8, iteration: 14/20, moves: 37, ncost: 203210841.1283396\n",
      "Run: 8, iteration: 15/20, moves: 11, ncost: 203210044.35274282\n",
      "Run: 8, iteration: 16/20, moves: 0, ncost: 203210044.35274282\n",
      "Init: initializing centroids\n",
      "Init: initializing clusters\n",
      "Init: initializing centroids\n",
      "Init: initializing clusters\n",
      "Starting iterations...\n",
      "Run: 9, iteration: 1/20, moves: 3765, ncost: 287209931.6324852\n",
      "Run: 9, iteration: 2/20, moves: 1860, ncost: 234200253.49602214\n",
      "Run: 9, iteration: 3/20, moves: 1321, ncost: 215347073.34743926\n",
      "Run: 9, iteration: 4/20, moves: 991, ncost: 206938625.17960268\n",
      "Run: 9, iteration: 5/20, moves: 538, ncost: 204704480.31625494\n",
      "Run: 9, iteration: 6/20, moves: 278, ncost: 204015309.27900845\n",
      "Run: 9, iteration: 7/20, moves: 157, ncost: 203842284.27658117\n",
      "Run: 9, iteration: 8/20, moves: 116, ncost: 203765872.27954358\n",
      "Run: 9, iteration: 9/20, moves: 36, ncost: 203729702.51445833\n",
      "Run: 9, iteration: 10/20, moves: 33, ncost: 203631778.80698094\n",
      "Run: 9, iteration: 11/20, moves: 63, ncost: 203541591.80647787\n",
      "Run: 9, iteration: 12/20, moves: 105, ncost: 203444600.07754812\n",
      "Run: 9, iteration: 13/20, moves: 62, ncost: 203407773.0932445\n",
      "Run: 9, iteration: 14/20, moves: 43, ncost: 203333717.59154454\n",
      "Run: 9, iteration: 15/20, moves: 72, ncost: 203265963.8596579\n",
      "Run: 9, iteration: 16/20, moves: 63, ncost: 203223236.65475\n",
      "Run: 9, iteration: 17/20, moves: 37, ncost: 203210841.1283396\n",
      "Run: 9, iteration: 18/20, moves: 11, ncost: 203210044.35274282\n",
      "Run: 9, iteration: 19/20, moves: 0, ncost: 203210044.35274282\n",
      "Init: initializing centroids\n",
      "Init: initializing clusters\n",
      "Starting iterations...\n",
      "Run: 10, iteration: 1/20, moves: 1334, ncost: 207134565.01442096\n",
      "Run: 10, iteration: 2/20, moves: 658, ncost: 203827516.54783922\n",
      "Run: 10, iteration: 3/20, moves: 109, ncost: 203494209.83934596\n",
      "Run: 10, iteration: 4/20, moves: 43, ncost: 203410756.1044085\n",
      "Run: 10, iteration: 5/20, moves: 40, ncost: 203351948.0135151\n",
      "Run: 10, iteration: 6/20, moves: 75, ncost: 203268592.91602516\n",
      "Run: 10, iteration: 7/20, moves: 60, ncost: 203226515.01565847\n",
      "Run: 10, iteration: 8/20, moves: 38, ncost: 203212263.25311008\n",
      "Run: 10, iteration: 9/20, moves: 17, ncost: 203210051.9548753\n",
      "Run: 10, iteration: 10/20, moves: 1, ncost: 203210044.35274282\n",
      "Run: 10, iteration: 11/20, moves: 0, ncost: 203210044.35274282\n",
      "Best run was number 1\n"
     ]
    }
   ],
   "source": [
    "kproto=KPrototypes(n_clusters=3, verbose=2,max_iter=20)\n",
    "clusters = kproto.fit_predict(flip_array, categorical=[0, 1, 2, 3, 6, 7, 8])"
   ]
  },
  {
   "cell_type": "code",
   "execution_count": 59,
   "metadata": {},
   "outputs": [
    {
     "data": {
      "text/plain": [
       "array([['799.0399449035813', '658.3250688705234', 'Diapers & Wipes',\n",
       "        'Enfamil A Plus Stage 1 Infant FormulaÃ\\x82Â\\xa0Ã\\x82Â\\xa0(400 g, Upto 6 Months)',\n",
       "        'Pampers', '400 g', 'flipkart_com',\n",
       "        'Bank Offer 10% Cashback* on HDFC Bank Debit Cards T&C | Bank Offer 5% Unlimited Cashback on Flipkart Axis Bank Credit Card T&C | Bank Offer Extra 5% off* with Axis Bank Buzz Credit Card T&C | No Cost EMI on Flipkart Axis Bank Credit Card T&C',\n",
       "        'True'],\n",
       "       ['94.66004291445097', '84.02350965575147', 'Masalas & Spices',\n",
       "        'Rani Float Fruit Drink with Real Fruit PiecesÃ\\x82Â\\xa0Ã\\x82Â\\xa0(240 ml)',\n",
       "        'Flipkart Supermart Select', '100 g', 'flipkart_com',\n",
       "        'Bank Offer 10% Cashback* on HDFC Bank Debit Cards T&C | Bank Offer 5% Unlimited Cashback on Flipkart Axis Bank Credit Card T&C | Bank Offer Extra 5% off* with Axis Bank Buzz Credit Card T&C | No Cost EMI on Flipkart Axis Bank Credit Card T&C',\n",
       "        'True'],\n",
       "       ['304.3976401179941', '269.26253687315636',\n",
       "        'Creams, Lotions, Skin Care',\n",
       "        'Real GreetingsÃ\\x82Â\\xa0Ã\\x82Â\\xa0(3 L)', 'Nivea', '200 g',\n",
       "        'flipkart_com',\n",
       "        'Bank Offer 10% Cashback* on HDFC Bank Debit Cards T&C | Bank Offer 5% Unlimited Cashback on Flipkart Axis Bank Credit Card T&C | Bank Offer Extra 5% off* with Axis Bank Buzz Credit Card T&C | No Cost EMI on Flipkart Axis Bank Credit Card T&C',\n",
       "        'True']], dtype='<U241')"
      ]
     },
     "execution_count": 59,
     "metadata": {},
     "output_type": "execute_result"
    }
   ],
   "source": [
    "kproto.cluster_centroids_"
   ]
  },
  {
   "cell_type": "code",
   "execution_count": 60,
   "metadata": {},
   "outputs": [],
   "source": [
    "cluster_dict=[]\n",
    "for c in clusters:\n",
    "    cluster_dict.append(c)"
   ]
  },
  {
   "cell_type": "code",
   "execution_count": 63,
   "metadata": {},
   "outputs": [],
   "source": [
    "fk['Cluster']=cluster_dict"
   ]
  },
  {
   "cell_type": "code",
   "execution_count": 75,
   "metadata": {
    "scrolled": true
   },
   "outputs": [],
   "source": [
    "c1=fk[fk[\"Cluster\"]==0]"
   ]
  },
  {
   "cell_type": "code",
   "execution_count": 76,
   "metadata": {
    "scrolled": true
   },
   "outputs": [],
   "source": [
    "c2=fk[fk[\"Cluster\"]==1]"
   ]
  },
  {
   "cell_type": "code",
   "execution_count": 77,
   "metadata": {
    "scrolled": true
   },
   "outputs": [],
   "source": [
    "c3=fk[fk[\"Cluster\"]==2]"
   ]
  },
  {
   "cell_type": "code",
   "execution_count": 83,
   "metadata": {
    "scrolled": false
   },
   "outputs": [
    {
     "data": {
      "text/plain": [
       "30"
      ]
     },
     "execution_count": 83,
     "metadata": {},
     "output_type": "execute_result"
    }
   ],
   "source": [
    "c1['Bb Category'].nunique()"
   ]
  },
  {
   "cell_type": "code",
   "execution_count": 84,
   "metadata": {},
   "outputs": [
    {
     "data": {
      "text/plain": [
       "477944"
      ]
     },
     "execution_count": 84,
     "metadata": {},
     "output_type": "execute_result"
    }
   ],
   "source": [
    "c1[\"Price\"].sum()"
   ]
  },
  {
   "cell_type": "code",
   "execution_count": 80,
   "metadata": {},
   "outputs": [
    {
     "data": {
      "text/plain": [
       "44"
      ]
     },
     "execution_count": 80,
     "metadata": {},
     "output_type": "execute_result"
    }
   ],
   "source": [
    "c2['Bb Category'].nunique()"
   ]
  },
  {
   "cell_type": "code",
   "execution_count": 85,
   "metadata": {},
   "outputs": [
    {
     "data": {
      "text/plain": [
       "900648"
      ]
     },
     "execution_count": 85,
     "metadata": {},
     "output_type": "execute_result"
    }
   ],
   "source": [
    "c2[\"Price\"].sum()"
   ]
  },
  {
   "cell_type": "code",
   "execution_count": 81,
   "metadata": {},
   "outputs": [
    {
     "data": {
      "text/plain": [
       "43"
      ]
     },
     "execution_count": 81,
     "metadata": {},
     "output_type": "execute_result"
    }
   ],
   "source": [
    "c3['Bb Category'].nunique()"
   ]
  },
  {
   "cell_type": "code",
   "execution_count": 86,
   "metadata": {},
   "outputs": [
    {
     "data": {
      "text/plain": [
       "912800"
      ]
     },
     "execution_count": 86,
     "metadata": {},
     "output_type": "execute_result"
    }
   ],
   "source": [
    "c3[\"Price\"].sum()"
   ]
  },
  {
   "cell_type": "code",
   "execution_count": 87,
   "metadata": {},
   "outputs": [
    {
     "data": {
      "text/plain": [
       "118"
      ]
     },
     "execution_count": 87,
     "metadata": {},
     "output_type": "execute_result"
    }
   ],
   "source": [
    "c3[\"Offers\"].nunique()"
   ]
  }
 ],
 "metadata": {
  "kernelspec": {
   "display_name": "Python 3",
   "language": "python",
   "name": "python3"
  },
  "language_info": {
   "codemirror_mode": {
    "name": "ipython",
    "version": 3
   },
   "file_extension": ".py",
   "mimetype": "text/x-python",
   "name": "python",
   "nbconvert_exporter": "python",
   "pygments_lexer": "ipython3",
   "version": "3.8.3"
  }
 },
 "nbformat": 4,
 "nbformat_minor": 4
}
